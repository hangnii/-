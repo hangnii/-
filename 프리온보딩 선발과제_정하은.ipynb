{
 "cells": [
  {
   "cell_type": "markdown",
   "id": "d94d3dd5",
   "metadata": {},
   "source": [
    "# 문제 1) Tokenizer 생성하기"
   ]
  },
  {
   "cell_type": "code",
   "execution_count": 32,
   "id": "7cb15504",
   "metadata": {},
   "outputs": [],
   "source": [
    "class Tokenizer():\n",
    "    def __init__(self):\n",
    "        self.word_dict = {'oov': 0}\n",
    "        self.fit_checker = False\n",
    "  \n",
    "    def preprocessing(self, sequences):\n",
    "        result = []\n",
    "        import nltk\n",
    "        from nltk.tokenize import RegexpTokenizer\n",
    "        tok=RegexpTokenizer('\\w+')\n",
    "        for sentence in sequences:\n",
    "            sentence=sentence.lower()\n",
    "            result.append(tok.tokenize(sentence))\n",
    "        return result\n",
    "\n",
    "#     def preprocessing(self, sequences):\n",
    "#         result = []\n",
    "#         tok=RegexpTokenizer('\\w+')\n",
    "#         for sentence in sequences:\n",
    "#             sentence=sentence.lower()\n",
    "#             result.append(tok.tokenize(sentence))\n",
    "#             result.append(sentence.split(' '))\n",
    "#         return result\n",
    "  \n",
    "    def fit(self, sequences):\n",
    "        self.fit_checker = False\n",
    "        result=self.preprocessing(sequences)\n",
    "#         res = preprocessing(sentence)\n",
    "        num=1\n",
    "        for sentence in result:\n",
    "            for word in sentence:\n",
    "                if not word in self.word_dict.keys():\n",
    "                    self.word_dict[word]=num\n",
    "                    num+=1\n",
    "        self.fit_checker = True\n",
    "  \n",
    "    def transform(self, sequences):\n",
    "        result = []\n",
    "        tokens = self.preprocessing(sequences)\n",
    "        if self.fit_checker:\n",
    "            for sentence in tokens:\n",
    "                res = []\n",
    "                for word in sentence:\n",
    "                    if word in self.word_dict.keys():\n",
    "                        res.append(self.word_dict[word])\n",
    "                    else:\n",
    "                        res.append(self.word_dict['oov'])\n",
    "                result.append(res)\n",
    "\n",
    "            return result\n",
    "        else:\n",
    "            raise Exception(\"Tokenizer instance is not fitted yet.\")\n",
    "      \n",
    "    def fit_transform(self, sequences):\n",
    "        self.fit(sequences)\n",
    "        result = self.transform(sequences)\n",
    "        return result"
   ]
  },
  {
   "cell_type": "code",
   "execution_count": 40,
   "id": "7acce254",
   "metadata": {},
   "outputs": [
    {
     "data": {
      "text/plain": [
       "{'oov': 0,\n",
       " 'i': 1,\n",
       " 'go': 2,\n",
       " 'to': 3,\n",
       " 'school': 4,\n",
       " 'like': 5,\n",
       " 'pizza': 6,\n",
       " 'love': 7,\n",
       " 'tteokpokki': 8}"
      ]
     },
     "execution_count": 40,
     "metadata": {},
     "output_type": "execute_result"
    }
   ],
   "source": [
    "tokenizer=Tokenizer()\n",
    "sent = ['I go to school.', 'I LIKE pizza!', 'I love Tteokpokki']\n",
    "tokenizer.fit_transform(sent)\n",
    "tokenizer.word_dict"
   ]
  },
  {
   "cell_type": "markdown",
   "id": "1221aeb3",
   "metadata": {},
   "source": [
    "# 문제 2) TfidfVectorizer 생성하기"
   ]
  },
  {
   "cell_type": "code",
   "execution_count": 43,
   "id": "43fe7fe0",
   "metadata": {},
   "outputs": [
    {
     "data": {
      "text/plain": [
       "array([[ 1,  2,  3,  4,  5,  6],\n",
       "       [ 2,  4,  6,  8, 10, 12]])"
      ]
     },
     "execution_count": 43,
     "metadata": {},
     "output_type": "execute_result"
    }
   ],
   "source": [
    "import numpy as np\n",
    "arr1 = [1,2,3,4,5,6]\n",
    "arr2 = [[1,1,1,1,1,1],[2,2,2,2,2,2]]\n",
    "np.multiply(arr1, arr2)"
   ]
  },
  {
   "cell_type": "code",
   "execution_count": 68,
   "id": "ec07e8e3",
   "metadata": {},
   "outputs": [],
   "source": [
    "# corpus = sequences\n",
    "\n",
    "class TfidfVectorizer:\n",
    "    def __init__(self, tokenizer):\n",
    "        self.tokenizer = tokenizer\n",
    "        self.fit_checker = False\n",
    "  \n",
    "    \n",
    "    def fit(self, sequences):\n",
    "        tokenized = self.tokenizer.fit_transform(sequences)\n",
    "        import math\n",
    "        #tokenized=[[1,2,3,4], [1,5,6]]\n",
    "        token_set=set()\n",
    "        for sent in tokenized:\n",
    "            for word in sent:\n",
    "                token_set.add(word)\n",
    "        tokens=list(token_set)\n",
    "        tokens.sort()\n",
    "        idf = []\n",
    "        n=len(tokenized)\n",
    "        for token in tokens:\n",
    "            df = 0\n",
    "            for sent in tokenized:\n",
    "                if token in sent:\n",
    "                    df += 1\n",
    "            idf_val = math.log(n/(1+df))\n",
    "            idf.append(idf_val)\n",
    "            \n",
    "        self.fit_checker = True\n",
    "        return idf\n",
    "        \n",
    "\n",
    "\n",
    "    def transform(self, sequences):\n",
    "        if self.fit_checker:\n",
    "            tokenized = self.tokenizer.transform(sequences)\n",
    "            import numpy as np\n",
    "            tf = []\n",
    "            token_set=set()\n",
    "            for sent in tokenized:\n",
    "                for word in sent:\n",
    "                    token_set.add(word)\n",
    "            tokens=list(token_set)\n",
    "            tokens.sort()\n",
    "            for sentence in tokenized:\n",
    "                temp = []\n",
    "                for token in tokens:\n",
    "                    tf_val = sum([word==token for word in sentence])\n",
    "                    temp.append(tf_val)\n",
    "                tf.append(temp)\n",
    "            idf = self.fit(sequences)\n",
    "            self.tfidf_matrix = np.multiply(tf,idf)\n",
    "            return self.tfidf_matrix\n",
    "        else:\n",
    "            raise Exception(\"TfidfVectorizer instance is not fitted yet.\")\n",
    "\n",
    "  \n",
    "    def fit_transform(self, sequences):\n",
    "        self.fit(sequences)\n",
    "        return self.transform(sequences)"
   ]
  },
  {
   "cell_type": "code",
   "execution_count": 67,
   "id": "5aa15fc9",
   "metadata": {},
   "outputs": [
    {
     "name": "stdout",
     "output_type": "stream",
     "text": [
      "[-0.40546510810816444, 0.0, 0.0, 0.0, 0.0, 0.0]\n",
      "[-0.40546510810816444, 0.0, 0.0, 0.0, 0.0, 0.0]\n"
     ]
    },
    {
     "data": {
      "text/plain": [
       "array([[-0.40546511,  0.        ,  0.        ,  0.        ,  0.        ,\n",
       "         0.        ],\n",
       "       [-0.40546511,  0.        ,  0.        ,  0.        ,  0.        ,\n",
       "         0.        ]])"
      ]
     },
     "execution_count": 67,
     "metadata": {},
     "output_type": "execute_result"
    }
   ],
   "source": [
    "tfidfvectorizer=TfidfVectorizer(tokenizer)\n",
    "sent = ['I go to school.', 'I LIKE pizza!']\n",
    "tfidfvectorizer.fit_transform(sent)"
   ]
  },
  {
   "cell_type": "code",
   "execution_count": null,
   "id": "996662e1",
   "metadata": {},
   "outputs": [],
   "source": []
  }
 ],
 "metadata": {
  "kernelspec": {
   "display_name": "Python 3 (ipykernel)",
   "language": "python",
   "name": "python3"
  },
  "language_info": {
   "codemirror_mode": {
    "name": "ipython",
    "version": 3
   },
   "file_extension": ".py",
   "mimetype": "text/x-python",
   "name": "python",
   "nbconvert_exporter": "python",
   "pygments_lexer": "ipython3",
   "version": "3.8.12"
  }
 },
 "nbformat": 4,
 "nbformat_minor": 5
}
